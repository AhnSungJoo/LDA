{
 "cells": [
  {
   "cell_type": "code",
   "execution_count": 2,
   "metadata": {},
   "outputs": [
    {
     "name": "stderr",
     "output_type": "stream",
     "text": [
      "C:\\Users\\Ahn\\Anaconda3\\lib\\site-packages\\gensim\\utils.py:865: UserWarning: detected Windows; aliasing chunkize to chunkize_serial\n",
      "  warnings.warn(\"detected Windows; aliasing chunkize to chunkize_serial\")\n",
      "C:\\Users\\Ahn\\Anaconda3\\lib\\site-packages\\h5py\\__init__.py:34: FutureWarning: Conversion of the second argument of issubdtype from `float` to `np.floating` is deprecated. In future, it will be treated as `np.float64 == np.dtype(float).type`.\n",
      "  from ._conv import register_converters as _register_converters\n",
      "Using TensorFlow backend.\n"
     ]
    }
   ],
   "source": [
    "from nltk.tokenize import RegexpTokenizer\n",
    "from stop_words import get_stop_words\n",
    "from nltk.stem.porter import PorterStemmer\n",
    "from gensim import corpora, models\n",
    "import gensim"
   ]
  },
  {
   "cell_type": "code",
   "execution_count": 14,
   "metadata": {
    "collapsed": true
   },
   "outputs": [],
   "source": [
    "tokenizer = RegexpTokenizer(r'\\w+')"
   ]
  },
  {
   "cell_type": "code",
   "execution_count": 15,
   "metadata": {
    "collapsed": true
   },
   "outputs": [],
   "source": [
    "en_stop = get_stop_words(\"en\")"
   ]
  },
  {
   "cell_type": "code",
   "execution_count": 16,
   "metadata": {
    "collapsed": true
   },
   "outputs": [],
   "source": [
    "p_stemmer = PorterStemmer()"
   ]
  },
  {
   "cell_type": "code",
   "execution_count": 17,
   "metadata": {
    "collapsed": true
   },
   "outputs": [],
   "source": [
    "doc_set = []\n",
    "idx = 8\n",
    "temp = \"data/thesis/2000s/200\"\n",
    "txt = \".txt\"\n",
    "for i in range(10):\n",
    "    tmp = str(idx) + txt\n",
    "    result = temp + tmp\n",
    "    docs = open(result).read()\n",
    "    doc_set.append(docs)"
   ]
  },
  {
   "cell_type": "code",
   "execution_count": 35,
   "metadata": {},
   "outputs": [
    {
     "name": "stdout",
     "output_type": "stream",
     "text": [
      "<class 'str'>\n"
     ]
    }
   ],
   "source": [
    "print(type(doc_set[1]))"
   ]
  },
  {
   "cell_type": "code",
   "execution_count": 18,
   "metadata": {
    "collapsed": true
   },
   "outputs": [],
   "source": [
    "texts = []"
   ]
  },
  {
   "cell_type": "code",
   "execution_count": 19,
   "metadata": {
    "collapsed": true
   },
   "outputs": [],
   "source": [
    "for i in doc_set:\n",
    "    \n",
    "    # clean and tokenize document string\n",
    "    raw = i.lower()\n",
    "    tokens = tokenizer.tokenize(raw)\n",
    "    \n",
    "    # remove stop words from tokens\n",
    "    stopped_tokens = [i for i in tokens if not i in en_stop]\n",
    "    \n",
    "    # stem tokens\n",
    "    stemmed_tokens = [p_stemmer.stem(i) for i in stopped_tokens]\n",
    "    \n",
    "    # add tokens to list\n",
    "    texts.append(stemmed_tokens)"
   ]
  },
  {
   "cell_type": "code",
   "execution_count": 20,
   "metadata": {
    "collapsed": true
   },
   "outputs": [],
   "source": [
    "# turn our tokenized documents into a id <-> term dictionary\n",
    "dictionary = corpora.Dictionary(texts)"
   ]
  },
  {
   "cell_type": "code",
   "execution_count": 21,
   "metadata": {
    "collapsed": true
   },
   "outputs": [],
   "source": [
    "# convert tokenized documents into a document-term matrix\n",
    "corpus = [dictionary.doc2bow(text) for text in texts]"
   ]
  },
  {
   "cell_type": "code",
   "execution_count": 24,
   "metadata": {
    "collapsed": true
   },
   "outputs": [],
   "source": [
    "# generate LDA model\n",
    "ldamodel = gensim.models.ldamodel.LdaModel(corpus, num_topics=10, id2word = dictionary, passes = 20)"
   ]
  },
  {
   "cell_type": "code",
   "execution_count": 25,
   "metadata": {},
   "outputs": [
    {
     "data": {
      "text/plain": [
       "[(0,\n",
       "  '0.001*\"system\" + 0.001*\"can\" + 0.001*\"detect\" + 0.001*\"attack\" + 0.001*\"use\" + 0.001*\"network\" + 0.001*\"full\" + 0.001*\"secur\" + 0.001*\"site\" + 0.001*\"applic\"'),\n",
       " (1,\n",
       "  '0.001*\"system\" + 0.001*\"attack\" + 0.001*\"can\" + 0.001*\"secur\" + 0.001*\"applic\" + 0.001*\"sitepublish\" + 0.001*\"full\" + 0.001*\"site\" + 0.001*\"detect\" + 0.001*\"use\"'),\n",
       " (2,\n",
       "  '0.001*\"attack\" + 0.001*\"secur\" + 0.001*\"use\" + 0.001*\"applic\" + 0.001*\"network\" + 0.001*\"detect\" + 0.001*\"publish\" + 0.001*\"can\" + 0.001*\"expand\" + 0.001*\"sitepublish\"'),\n",
       " (3,\n",
       "  '0.001*\"system\" + 0.001*\"network\" + 0.001*\"attack\" + 0.001*\"detect\" + 0.001*\"secur\" + 0.001*\"use\" + 0.001*\"expand\" + 0.001*\"code\" + 0.001*\"can\" + 0.001*\"sitepublish\"'),\n",
       " (4,\n",
       "  '0.013*\"system\" + 0.011*\"attack\" + 0.010*\"secur\" + 0.009*\"can\" + 0.009*\"network\" + 0.009*\"detect\" + 0.009*\"use\" + 0.008*\"applic\" + 0.007*\"site\" + 0.007*\"full\"'),\n",
       " (5,\n",
       "  '0.004*\"attack\" + 0.004*\"system\" + 0.004*\"use\" + 0.003*\"detect\" + 0.003*\"can\" + 0.003*\"network\" + 0.003*\"full\" + 0.003*\"secur\" + 0.003*\"page\" + 0.003*\"site\"'),\n",
       " (6,\n",
       "  '0.001*\"system\" + 0.001*\"use\" + 0.001*\"can\" + 0.001*\"detect\" + 0.001*\"attack\" + 0.001*\"secur\" + 0.001*\"applic\" + 0.001*\"network\" + 0.001*\"full\" + 0.001*\"page\"'),\n",
       " (7,\n",
       "  '0.001*\"attack\" + 0.001*\"system\" + 0.001*\"secur\" + 0.001*\"applic\" + 0.001*\"network\" + 0.001*\"expand\" + 0.001*\"avail\" + 0.001*\"page\" + 0.001*\"can\" + 0.001*\"techniqu\"'),\n",
       " (8,\n",
       "  '0.001*\"attack\" + 0.001*\"applic\" + 0.001*\"secur\" + 0.001*\"system\" + 0.001*\"network\" + 0.001*\"can\" + 0.001*\"expand\" + 0.001*\"full\" + 0.001*\"use\" + 0.001*\"s\"'),\n",
       " (9,\n",
       "  '0.001*\"system\" + 0.001*\"can\" + 0.001*\"secur\" + 0.001*\"attack\" + 0.001*\"page\" + 0.001*\"site\" + 0.001*\"use\" + 0.001*\"applic\" + 0.001*\"sitepublish\" + 0.001*\"base\"')]"
      ]
     },
     "execution_count": 25,
     "metadata": {},
     "output_type": "execute_result"
    }
   ],
   "source": [
    "ldamodel.print_topics(10)"
   ]
  }
 ],
 "metadata": {
  "kernelspec": {
   "display_name": "Python 3",
   "language": "python",
   "name": "python3"
  },
  "language_info": {
   "codemirror_mode": {
    "name": "ipython",
    "version": 3
   },
   "file_extension": ".py",
   "mimetype": "text/x-python",
   "name": "python",
   "nbconvert_exporter": "python",
   "pygments_lexer": "ipython3",
   "version": "3.6.1"
  }
 },
 "nbformat": 4,
 "nbformat_minor": 2
}
