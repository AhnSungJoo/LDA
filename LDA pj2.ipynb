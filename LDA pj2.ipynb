{
 "cells": [
  {
   "cell_type": "code",
   "execution_count": 42,
   "metadata": {
    "collapsed": true
   },
   "outputs": [],
   "source": [
    "from sklearn.datasets import load_files\n",
    "from sklearn.feature_extraction.text import CountVectorizer\n",
    "from sklearn.decomposition import LatentDirichletAllocation\n",
    "import numpy as np\n",
    "import lda\n",
    "import lda.datasets\n",
    "import numpy as np\n",
    "import mglearn\n",
    "import matplotlib.pyplot as plt\n",
    "import re\n",
    "from konlpy.tag import Twitter\n",
    "from gensim.models.word2vec import Word2Vec\n",
    "from copy import deepcopy\n",
    "import re\n",
    "import os\n",
    "from datetime import datetime\n",
    "import csv\n",
    "import sys \n"
   ]
  },
  {
   "cell_type": "code",
   "execution_count": 43,
   "metadata": {},
   "outputs": [],
   "source": [
    "docs = open(\"data/thesis/ret1.txt\").read()"
   ]
  },
  {
   "cell_type": "markdown",
   "metadata": {},
   "source": [
    "## 대화가 준 논문 불러오기"
   ]
  },
  {
   "cell_type": "code",
   "execution_count": 44,
   "metadata": {},
   "outputs": [],
   "source": [
    "def preprocessing(content):\n",
    "    content = re.sub('\\\\xa0', '', content)\n",
    "    content = re.sub('\\\\n', '', content)\n",
    "    content = re.sub('\\\\\\\\xa0', '', content)\n",
    "    content = re.sub('\\\\\\\\n', '', content)\n",
    "    content = re.sub('[\\{\\}\\[\\]\\/?.,;:|\\)*~`!^\\-_+<>@#$%&\\\\\\=\\(\\'\\\")]', '', content)\n",
    "    content = ' '.join(content.split())\n",
    "                     \n",
    "    return content\n",
    "def tokenize(doc): #토크나이징\n",
    "    return ['/'.joint(t) for t in t.pos(doc, norm=True, stem=True)]\n",
    "docs_ko=preprocessing(docs)\n",
    "docs_ko=tokenize(docs_ko)"
   ]
  },
  {
   "cell_type": "markdown",
   "metadata": {},
   "source": [
    "## 전처리과정"
   ]
  },
  {
   "cell_type": "code",
   "execution_count": 45,
   "metadata": {},
   "outputs": [],
   "source": [
    "docs_ko = [docs_ko]"
   ]
  },
  {
   "cell_type": "code",
   "execution_count": 46,
   "metadata": {},
   "outputs": [
    {
     "name": "stdout",
     "output_type": "stream",
     "text": [
      "['지난 6일 비트코인 가격이 저점을 찍은 뒤 꾸준히 오르자 설 연휴 마지막 날인 18일 약 한달 만에 국내 비트코인 거래량이 최대치를 찍은 것으로 나타났다19일 국내 가상통화가상화폐 정보업체 코인에스 집계를 보면 18일 하루 동안 국내 거래소에서 8만4279비트코인이 거래됐다 이날 종가인 1221만원으로 계산하면 하루 거래량이 원화로 약 1조290억원이다 지난 1월20일8만8293코인 이후 약 한달 만에 가장 많은 거래량이었다 이틀 전인 16일 거래량4만2094코인보다 절반 가까이 늘었다 17일 거래량도 5만8329코인에 불과했다국내 시장의 과열을 보여주는 ‘김치 프리미엄’도 약 67 붙었다 지난 6일 비트코인 가격이 폭락했을 땐 국제 시세보다 가격이 더 떨어지는 ‘역프리미엄’ 현상이 나타나기도 했다 지난 6일 한 때 600만원 후반 대까지 폭락한 것을 고려하면 2주만에 2배 가까운 상승세다가격 상승에 따라 거래량도 급증한 것으로 보인다 최근 급격한 상승세는 앞서 지난 2일 비트코인 가격의 ‘심리적 마지노선’이었던 1000만원대가 깨진 뒤 나흘 만에 600만원대까지 떨어지자 ‘저가매수’에 나선 투자자들이 늘어난 데다 규제 목소리가 다소 누그러지면서 투자 심리가 활성화된 것으로 풀이된다 반등의 기점이 된 지난 6일 미국 상원 은행위원회가 연 가상통화 청문회는 구체적인 규제책을 논의하는 대신 규제의 필요성을 재확인하는 선에서 마무리됐다 당시 가상통화 테더를 이용해 거래소 비트피넥스가 시세조작을 했다는 혐의를 받아 ‘테더’ 청문회가 될 것이라는 우려가 팽배했다 백악관 사이버 담당 책임자인 롭 조이스는 16일 시엔비시CNBC 방송에서 “가상통화의 득과 실을 더 잘 이해할 필요가 있다”며 “미국 정부가 규제를 시작하기엔 갈 길이 멀다”고 말했다이날 오전 국내 가상통화 거래소 빗썸 기준 비트코인은 1200만원에 거래되고 있다']\n"
     ]
    }
   ],
   "source": [
    "print(docs_ko)"
   ]
  },
  {
   "cell_type": "markdown",
   "metadata": {},
   "source": [
    "## list 변환"
   ]
  },
  {
   "cell_type": "code",
   "execution_count": 47,
   "metadata": {},
   "outputs": [],
   "source": [
    "vect = CountVectorizer(max_features=100,max_df=1)\n",
    "X = vect.fit_transform(docs_ko)"
   ]
  },
  {
   "cell_type": "code",
   "execution_count": 48,
   "metadata": {},
   "outputs": [
    {
     "name": "stdout",
     "output_type": "stream",
     "text": [
      "<class 'scipy.sparse.csr.csr_matrix'>\n"
     ]
    }
   ],
   "source": [
    "print(type(X))"
   ]
  },
  {
   "cell_type": "markdown",
   "metadata": {},
   "source": [
    "## data를 BOW형 으로 변환"
   ]
  },
  {
   "cell_type": "code",
   "execution_count": 49,
   "metadata": {},
   "outputs": [
    {
     "name": "stderr",
     "output_type": "stream",
     "text": [
      "INFO:lda:n_documents: 1\n",
      "INFO:lda:vocab_size: 100\n",
      "INFO:lda:n_words: 132\n",
      "INFO:lda:n_topics: 20\n",
      "INFO:lda:n_iter: 500\n",
      "C:\\Users\\Ahn\\Anaconda3\\lib\\site-packages\\lda\\utils.py:55: FutureWarning: Conversion of the second argument of issubdtype from `int` to `np.signedinteger` is deprecated. In future, it will be treated as `np.int32 == np.dtype(int).type`.\n",
      "  if sparse and not np.issubdtype(doc_word.dtype, int):\n",
      "INFO:lda:<0> log likelihood: -1208\n",
      "INFO:lda:<10> log likelihood: -1055\n",
      "INFO:lda:<20> log likelihood: -1058\n",
      "INFO:lda:<30> log likelihood: -1063\n",
      "INFO:lda:<40> log likelihood: -1061\n",
      "INFO:lda:<50> log likelihood: -1051\n",
      "INFO:lda:<60> log likelihood: -1057\n",
      "INFO:lda:<70> log likelihood: -1054\n",
      "INFO:lda:<80> log likelihood: -1051\n",
      "INFO:lda:<90> log likelihood: -1051\n",
      "INFO:lda:<100> log likelihood: -1074\n",
      "INFO:lda:<110> log likelihood: -1048\n",
      "INFO:lda:<120> log likelihood: -1053\n",
      "INFO:lda:<130> log likelihood: -1062\n",
      "INFO:lda:<140> log likelihood: -1060\n",
      "INFO:lda:<150> log likelihood: -1039\n",
      "INFO:lda:<160> log likelihood: -1056\n",
      "INFO:lda:<170> log likelihood: -1042\n",
      "INFO:lda:<180> log likelihood: -1033\n",
      "INFO:lda:<190> log likelihood: -1053\n",
      "INFO:lda:<200> log likelihood: -1050\n",
      "INFO:lda:<210> log likelihood: -1048\n",
      "INFO:lda:<220> log likelihood: -1059\n",
      "INFO:lda:<230> log likelihood: -1054\n",
      "INFO:lda:<240> log likelihood: -1068\n",
      "INFO:lda:<250> log likelihood: -1061\n",
      "INFO:lda:<260> log likelihood: -1053\n",
      "INFO:lda:<270> log likelihood: -1079\n",
      "INFO:lda:<280> log likelihood: -1053\n",
      "INFO:lda:<290> log likelihood: -1052\n",
      "INFO:lda:<300> log likelihood: -1060\n",
      "INFO:lda:<310> log likelihood: -1063\n",
      "INFO:lda:<320> log likelihood: -1065\n",
      "INFO:lda:<330> log likelihood: -1066\n",
      "INFO:lda:<340> log likelihood: -1053\n",
      "INFO:lda:<350> log likelihood: -1055\n",
      "INFO:lda:<360> log likelihood: -1074\n",
      "INFO:lda:<370> log likelihood: -1054\n",
      "INFO:lda:<380> log likelihood: -1059\n",
      "INFO:lda:<390> log likelihood: -1056\n",
      "INFO:lda:<400> log likelihood: -1063\n",
      "INFO:lda:<410> log likelihood: -1060\n",
      "INFO:lda:<420> log likelihood: -1069\n",
      "INFO:lda:<430> log likelihood: -1076\n",
      "INFO:lda:<440> log likelihood: -1066\n",
      "INFO:lda:<450> log likelihood: -1052\n",
      "INFO:lda:<460> log likelihood: -1043\n",
      "INFO:lda:<470> log likelihood: -1051\n",
      "INFO:lda:<480> log likelihood: -1046\n",
      "INFO:lda:<490> log likelihood: -1054\n",
      "INFO:lda:<499> log likelihood: -1061\n"
     ]
    },
    {
     "data": {
      "text/plain": [
       "<lda.lda.LDA at 0x1bf5700def0>"
      ]
     },
     "execution_count": 49,
     "metadata": {},
     "output_type": "execute_result"
    }
   ],
   "source": [
    "model = lda.LDA(n_topics=20, n_iter=500, random_state=1)\n",
    "model.fit(X)"
   ]
  },
  {
   "cell_type": "code",
   "execution_count": 50,
   "metadata": {
    "collapsed": true
   },
   "outputs": [],
   "source": [
    "lda = LatentDirichletAllocation(n_components=10, learning_method=\"batch\",\n",
    "                               max_iter=25, random_state=0)\n",
    "documents_topics = lda.fit_transform(X)"
   ]
  },
  {
   "cell_type": "markdown",
   "metadata": {},
   "source": [
    "## lda 변환"
   ]
  },
  {
   "cell_type": "code",
   "execution_count": 51,
   "metadata": {},
   "outputs": [
    {
     "name": "stdout",
     "output_type": "stream",
     "text": [
      "[[7.51879809e-04 7.51879809e-04 7.51879809e-04 7.51879809e-04\n",
      "  7.51879809e-04 7.51879809e-04 7.51879809e-04 7.51879809e-04\n",
      "  7.51879809e-04 9.93233082e-01]]\n"
     ]
    }
   ],
   "source": [
    "print(documents_topics)"
   ]
  },
  {
   "cell_type": "code",
   "execution_count": 52,
   "metadata": {},
   "outputs": [
    {
     "name": "stdout",
     "output_type": "stream",
     "text": [
      "lda.components_.shape: (10, 100)\n"
     ]
    }
   ],
   "source": [
    "print(\"lda.components_.shape: {}\".format(lda.components_.shape))"
   ]
  },
  {
   "cell_type": "code",
   "execution_count": 53,
   "metadata": {
    "collapsed": true
   },
   "outputs": [],
   "source": [
    "sorting = np.argsort(lda.components_,axis=1)[:, ::-1]\n",
    "feature_names = np.array(vect.get_feature_names())"
   ]
  },
  {
   "cell_type": "markdown",
   "metadata": {},
   "source": [
    "## 행의 특성을 내림차순으로 정렬 \n",
    "## Countervectorizer 객체에서 특겅 이름 추출"
   ]
  },
  {
   "cell_type": "code",
   "execution_count": 54,
   "metadata": {},
   "outputs": [
    {
     "name": "stdout",
     "output_type": "stream",
     "text": [
      "['1000만원대가' '16일' '18일' '6일' '가격이' '가상통화' '거래됐다' '거래되고' '거래량4만2094코인보다'\n",
      " '거래량도' '거래량이' '거래량이었다' '거래소' '거래소에서' '것으로' '것을' '것이라는' '계산하면' '고려하면'\n",
      " '과열을' '구체적인' '국내' '국제' '만에' '멀다' '미국' '방송에서' '보면' '보여주는' '보인다' '불과했다국내'\n",
      " '붙었다' '비트코인' '비트코인은' '비트피넥스가' '빗썸' '사이버' '상승세는' '상승세다가격' '상승에' '상원' '선에서'\n",
      " '시세보다' '시세조작을' '시엔비시cnbc' '시작하기엔' '시장의' '실을' '심리가' '심리적' '앞서' '역프리미엄'\n",
      " '연휴' '오르자' '오전' '우려가' '원화로' '은행위원회가' '이날' '이었던' '이용해' '이틀' '이해할' '이후'\n",
      " '있다' '재확인하는' '저가매수' '저점을' '전인' '절반' '정보업체' '정부가' '조이스는' '종가인' '지난' '집계를'\n",
      " '찍은' '책임자인' '청문회가' '청문회는' '최근' '최대치를' '코인에스' '테더' '테더를' '투자' '투자자들이'\n",
      " '팽배했다' '폭락한' '폭락했을' '풀이된다' '프리미엄' '필요가' '필요성을' '하루' '한달' '했다' '했다는' '현상이'\n",
      " '혐의를']\n"
     ]
    }
   ],
   "source": [
    "print(feature_names)"
   ]
  },
  {
   "cell_type": "code",
   "execution_count": 58,
   "metadata": {},
   "outputs": [
    {
     "name": "stdout",
     "output_type": "stream",
     "text": [
      "topic 0       \n",
      "--------      \n",
      "혐의를           \n",
      "시엔비시cnbc      \n",
      "사이버           \n",
      "상승세는          \n",
      "상승세다가격        \n",
      "\n",
      "\n"
     ]
    }
   ],
   "source": [
    "lda = mglearn.tools.print_topics(topics=range(1), feature_names=feature_names, sorting=sorting, topics_per_chunk=5, n_words=5)"
   ]
  },
  {
   "cell_type": "code",
   "execution_count": 60,
   "metadata": {},
   "outputs": [
    {
     "data": {
      "text/plain": [
       "NoneType"
      ]
     },
     "execution_count": 60,
     "metadata": {},
     "output_type": "execute_result"
    }
   ],
   "source": [
    "type(lda) "
   ]
  },
  {
   "cell_type": "code",
   "execution_count": null,
   "metadata": {
    "collapsed": true
   },
   "outputs": [],
   "source": []
  }
 ],
 "metadata": {
  "kernelspec": {
   "display_name": "Python 3",
   "language": "python",
   "name": "python3"
  },
  "language_info": {
   "codemirror_mode": {
    "name": "ipython",
    "version": 3
   },
   "file_extension": ".py",
   "mimetype": "text/x-python",
   "name": "python",
   "nbconvert_exporter": "python",
   "pygments_lexer": "ipython3",
   "version": "3.6.1"
  }
 },
 "nbformat": 4,
 "nbformat_minor": 2
}
