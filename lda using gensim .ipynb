{
 "cells": [
  {
   "cell_type": "code",
   "execution_count": 2,
   "metadata": {},
   "outputs": [
    {
     "name": "stderr",
     "output_type": "stream",
     "text": [
      "C:\\Users\\Ahn\\Anaconda3\\lib\\site-packages\\gensim\\utils.py:865: UserWarning: detected Windows; aliasing chunkize to chunkize_serial\n",
      "  warnings.warn(\"detected Windows; aliasing chunkize to chunkize_serial\")\n",
      "C:\\Users\\Ahn\\Anaconda3\\lib\\site-packages\\h5py\\__init__.py:34: FutureWarning: Conversion of the second argument of issubdtype from `float` to `np.floating` is deprecated. In future, it will be treated as `np.float64 == np.dtype(float).type`.\n",
      "  from ._conv import register_converters as _register_converters\n",
      "Using TensorFlow backend.\n"
     ]
    }
   ],
   "source": [
    "from nltk.tokenize import RegexpTokenizer\n",
    "from stop_words import get_stop_words\n",
    "from nltk.stem.porter import PorterStemmer\n",
    "from gensim import corpora, models\n",
    "import gensim"
   ]
  },
  {
   "cell_type": "code",
   "execution_count": 3,
   "metadata": {
    "collapsed": true
   },
   "outputs": [],
   "source": [
    "tokenizer = RegexpTokenizer(r'\\w+')"
   ]
  },
  {
   "cell_type": "code",
   "execution_count": 4,
   "metadata": {
    "collapsed": true
   },
   "outputs": [],
   "source": [
    "en_stop = get_stop_words(\"en\")\n",
    "en_stop.append('s')"
   ]
  },
  {
   "cell_type": "code",
   "execution_count": 5,
   "metadata": {
    "collapsed": true
   },
   "outputs": [],
   "source": [
    "p_stemmer = PorterStemmer()"
   ]
  },
  {
   "cell_type": "code",
   "execution_count": 6,
   "metadata": {
    "collapsed": true
   },
   "outputs": [],
   "source": [
    "docs = open(\"data/thesis/news2.txt\").read()\n",
    "docs2 = open(\"data/thesis/news.txt\").read()\n",
    "doc_set = [docs,docs2]"
   ]
  },
  {
   "cell_type": "code",
   "execution_count": 7,
   "metadata": {
    "collapsed": true
   },
   "outputs": [],
   "source": [
    "texts = []"
   ]
  },
  {
   "cell_type": "code",
   "execution_count": 8,
   "metadata": {
    "collapsed": true
   },
   "outputs": [],
   "source": [
    "for i in doc_set:\n",
    "    \n",
    "    # clean and tokenize document string\n",
    "    raw = i.lower()\n",
    "    tokens = tokenizer.tokenize(raw)\n",
    "    \n",
    "    # remove stop words from tokens\n",
    "    stopped_tokens = [i for i in tokens if not i in en_stop]\n",
    "    \n",
    "    # stem tokens\n",
    "    stemmed_tokens = [p_stemmer.stem(i) for i in stopped_tokens]\n",
    "    \n",
    "    # add tokens to list\n",
    "    texts.append(stemmed_tokens)"
   ]
  },
  {
   "cell_type": "code",
   "execution_count": 29,
   "metadata": {
    "collapsed": true
   },
   "outputs": [],
   "source": [
    "# turn our tokenized documents into a id <-> term dictionary\n",
    "type(texts)\n",
    "dictionary = corpora.Dictionary(texts)"
   ]
  },
  {
   "cell_type": "code",
   "execution_count": 31,
   "metadata": {},
   "outputs": [
    {
     "name": "stdout",
     "output_type": "stream",
     "text": [
      "[['west', 'palm', 'beach', 'florida', 'cnn', 'presid', 'donald', 'trump', 'offer', 'bullish', 'view', 'wednesday', 'plan', 'talk', 'north', 'korean', 'despot', 'kim', 'jong', 'un', 'insist', 'posit', 'accomplish', 'predecessor', 'still', 'maintain', 'd', 'will', 'stand', 'leav', 'highli', 'anticip', 'summit', 'meet', 'fall', 'short', 'expect', 'don', 't', 'think', 'go', 'success', 'won', 't', 'presid', 'said', 'stand', 'alongsid', 'japanes', 'counterpart', 'trump', 'oceanfront', 'mar', 'lago', 'estat', 'meet', 'm', 'isn', 't', 'fruit', 'will', 'respect', 'leav', 'meet', 'sponsor', 'content', 'day', '2', 'highlight', 'world', 'biggest', 'mobil', 'showcas', 'sizzl', 'start', 'uk', 'tech', 'wizard', 'boldli', 'go', 'forth', 'field', 'data', 'li', 'fi', 'content', 'provid', 'uk', 'depart', 'intern', 'trade', 'like', 'alway', 'remain', 'flexibl', 'trump', 'said', 'll', 'remain', 'flexibl', 'trump', 'also', 'maintain', 'negoti', 'posit', 'pyongyang', 'remain', 'stronger', 'ever', 've', 'never', 'posit', 'like', 'regim', 'whether', 'father', 'grandfath', 'son', 'said', 'trump', 'say', '5', 'locat', 'consid', 'kim', 'jong', 'un', 'meet', 'trump', 'say', '5', 'locat', 'consid', 'kim', 'jong', 'un', 'meet', 'trump', 'unexpectedli', 'agre', 'kim', 'talk', 'last', 'month', 'press', 'forward', 'plan', 'despit', 'concern', 'region', 'alli', 'japanes', 'prime', 'minist', 'shinzo', 'abe', 'arriv', 'florida', 'week', 'warn', 'trump', 'past', 'us', 'talk', 'north', 'korea', 'fail', 'two', 'men', 'confer', 'matter', 'tuesday', 'alongsid', 'top', 'nation', 'secur', 'aid', 'talk', 'wednesday', 'focus', 'trade', 'includ', 'possibl', 'exempt', 'japan', 'new', 'us', 'tariff', 'steel', 'aluminum', 'import', 'trump', 'abe', 'enjoy', 'nearli', 'five', 'hour', 'round', 'golf', 'nearbi', 'trump', 'intern', 'golf', 'club', 'men', 'put', 'forward', 'display', 'bonhomi', 'extens', 'time', 'togeth', 'abe', 'routin', 'refer', 'presid', 'donald', 'trump', 'expound', 'friendship', 'develop', 'japanes', 'leader', 'stroll', 'mar', 'lago', 'croquet', 'lawn', 'wive', 'dinner', 'tuesday', 'tension', 'visibl', 'remark', 'ahead', 'wednesday', 'trade', 'talk', 'trump', 'deliv', 'stern', 'warn', 'unfair', 'econom', 'practic', 'vow', 'stand', 'american', 'worker', 'paid', 'littl', 'heed', 'abe', 'warn', 'north', 'korea', 'instead', 'indic', 'prepar', 'talk', 'move', 'forward', 'rapidli', 'play', 'video', 'trump', 'us', 'massiv', 'trade', 'deficit', 'japan', '02', '18', 'hope', 'meet', 'will', 'success', 'look', 'forward', 'trump', 'said', 'news', 'confer', 'will', 'everyth', 'possibl', 'make', 'worldwid', 'success', 'offer', 'concess', 'abe', 'vow', 'rais', 'issu', 'abduct', 'japanes', 'citizen', 'plan', 'summit', 'kim', 'key', 'request', 'abe', 'abduct', 'import', 'issu', 'import', 'prime', 'minist', 'trump', 'said', 'florida', 'abe', 'meanwhil', 'said', 'told', 'trump', 'week', 'north', 'korea', 'wouldn', 't', 'reward', 'simpli', 'open', 'dialogu', 'unit', 'state', 'maximum', 'pressur', 'maintain', 'abe', 'said', 'mar', 'lago', 'presid', 'trump', 'full', 'agreement', 'two', 'men', 'sat', 'dinner', 'tuesday', 'reveal', 'mike', 'pompeo', 'trump', 'cia', 'director', 'pick', 'secretari', 'state', 'travel', 'north', 'korea', 'preliminari', 'talk', 'kim', 'earli', 'month', 'trump', 'said', 'earlier', 'even', 'offici', 'identifi', 'five', 'possibl', 'venu', 'summit', 'presid', 'stress', 'll', 'focu', 'denuclear', 'talk', 'kim', 'abe', 'work', 'gain', 'commit', 'missil', 'test', 'will', 'also', 'agenda', 'intermedi', 'rang', 'missil', 'test', 'launch', 'north', 'korea', 'land', 'water', 'japan'], ['cnn', 'noth', 'less', 'devast', 'contemporan', 'takedown', 'sit', 'presid', 'modern', 'histori', 'jame', 'comey', 'storm', 'brew', 'menacingli', 'horizon', 'month', 'slam', 'white', 'hous', 'just', '5', 'p', 'm', 'et', 'thursday', 'first', 'leak', 'fire', 'fbi', 'director', 'explos', 'new', 'book', 'start', 'gush', 'obama', 'reassur', 'comey', 'elect', 'amid', 'email', 'investig', 'controversi', 'obama', 'reassur', 'comey', 'elect', 'amid', 'email', 'investig', 'controversi', 'prove', 'reveng', 'dish', 'best', 'serv', 'cold', 'comey', 'wait', '11', 'month', 'exact', 'retribut', 'dismiss', 'presid', 'donald', 'trump', 'last', 'may', 'came', 'unspar', 'richli', 'detail', 'mortifi', 'presid', 'paint', 'trump', 'relentless', 'liar', 'obsess', 'uneth', 'devoid', 'human', 'slave', 'ego', 'clueless', 'job', 'unconcern', 'russian', 'assault', 'american', 'democraci', 'jab', 'presid', 'strikingli', 'person', 'way', 'comey', 'note', 'size', 'trump', 'hand', 'said', 'skin', 'look', 'orang', 'describ', 'white', 'ring', 'around', 'eye', 'tan', 'goggl', 'comey', 'isn', 't', 'just', 'hurt', 'trump', 'feel', 'profound', 'mission', 'book', 'parabl', 'threat', 'brazen', 'presid', 'demand', 'warp', 'concept', 'loyalti', 'disdain', 'rule', 'law', 'hell', 'hath', 'furi', 'like', 'fbi', 'director', 'scorn', 'former', 'trump', 'econom', 'advis', 'stephen', 'moor', 'said', 'cnn', 'cnn', 'obtain', 'copi', 'book', 'corrobor', 'news', 'report', 'comey', 'highli', 'anticip', 'recount', 'time', 'trump', 'administr', 'one', 'stagger', 'part', 'book', 'higher', 'loyalti', 'comey', 'said', 'deal', 'trump', 'remind', 'day', 'prosecut', 'mafia', 'kingpin', 'silent', 'circl', 'assent', 'boss', 'complet', 'control', 'loyalti', 'oath', 'us', 'versu', 'worldview', 'lie', 'thing', 'larg', 'small', 'servic', 'code', 'loyalti', 'put', 'organ', 'moral', 'truth', 'happen', 'now', 'normal', 'fake', 'news', 'okay', 'write', 'sketch', 'brutal', 'feudal', 'world', 'seem', 'incompat', 'tradit', 'percept', 'presid', 'offici', 'trump', 'expect', 'pardon', 'scooter', 'libbi', 'offici', 'trump', 'expect', 'pardon', 'scooter', 'libbi', 'presid', 'vulner', 'tell', 'all', 'disgruntl', 'former', 'insid', 'expos', 'enmiti', 'gaff', 'scandal', 'west', 'wing', 'franklin', 'roosevelt', 'dwight', 'eisenhow', 'georg', 'w', 'bush', 'bill', 'clinton', 'experienc', 'indict', 'disillus', 'staffer', 'yet', 'command', 'chief', 'modern', 'memori', 'endur', 'humili', 'heap', 'trump', 'comey', 'argu', 'presid', 'saw', 'fbi', 'person', 'investig', 'servic', 'bound', 'bid', 'will', 'trump', 'react', 'immedi', 'question', 'now', 'trump', 'typic', 'rage', 'attack', 'imag', 'live', 'creed', 'swift', 'retali', 'will', 'respond', 'former', 'fbi', 'director', 'portray', 'forest', 'fire', 'presid', 'besieg', 'scandal', 'fast', 'worsen', 'legal', 'entangl', 'wrestl', 'life', 'death', 'decis', 'whether', 'launch', 'militari', 'action', 'syria', 'trump', 'humili', 'indescrib', 'polit', 'pressur', 'may', 'conduc', 'wise', 'decis', 'make', 'seem', 'sure', 'boil', 'twitter', 'tsunami', 'bad', 'news', 'presid', 'just', 'thursday', 'report', 'nation', 'enquir', 'parent', 'compani', 'paid', 'doorman', 'one', 'properti', 'keep', 'quiet', 'rumor', 'presid', 'sire', 'illegitim', 'child', 'cnn', 'confirm', 'neither', 'stori', 'rumor', 'true', 'fit', 'pattern', 'payoff', 'peopl', 'alleg', 'transgress', 'trump', 'privat', 'life', 'yet', 'anoth', 'stunner', 'sourc', 'familiar', 'matter', 'said', 'record', 'trump', 'attorney', 'michael', 'cohen', 'often', 'made', 'telephon', 'convers', 'like', 'scoop', 'fbi', 'raid', 'monday', 'attorney', 'cohen', 'apart', 'offic', 'hotel', 'room', 'cnn', 'jim', 'acosta', 'report', 'thursday', 'presid', 'just', 'begun', 'cool', 'raid', 'partli', 'result', 'referr', 'new', 'york', 'prosecutor', 'special', 'counsel', 'robert', 'mueller', 'wall', 'wall', 'news', 'coverag', 'leak', 'like', 'send', 'trump', 'wall', 'sinc', 'peopl', 'disdain', 'comey', 'nbc', 'interview', 'last', 'may', 'trump', 'blast', 'former', 'fbi', 'chief', 'showboat', 'grandstand', 'recent', 'monday', 'presid', 'call', 'comey', 'liar', 'said', 'right', 'sack', 'trump', 'made', 'secret', 'view', 'comey', 'epitom', 'deep', 'state', 'effort', 'destroy', 'like', 'furor', 'book', 'fire', 'furi', 'author', 'michael', 'wolf', 'publish', 'januari', 'trump', 'headach', 'will', 'fade', 'soon', 'thursday', 'revel', 'just', 'start', 'week', 'pain', 'trump', 'comey', 'embark', 'media', 'blitz', 'start', 'interview', 'georg', 'stephanopoulo', 'abc', '20', '20', 'sunday', 'cnn', 'jake', 'tapper', 'will', 'sit', 'former', 'fbi', 'director', 'next', 'thursday', 'clear', 'even', 'republican', 'nation', 'committe', 'plan', 'unleash', 'counterattack', 'lyin', 'comey', 'exclus', 'reveal', 'cnn', 'jeff', 'zeleni', 'thursday', 'will', 'suffici', 'rebut', 'hard', 'charg', 'claim', 'book', 'still', 'comey', 'willing', 'write', 'salaci', 'detail', 'steel', 'dossier', 'includ', 'notori', 'claim', 'trump', 'watch', 'prostitut', 'urin', 'moscow', 'hotel', 'room', 'claim', 'verifi', 'bolster', 'gop', 'claim', 'go', 'tabloid', 'just', 'sell', 'book', 'play', 'video', 'farrow', 'tabloid', 'paid', 'doorman', 'buri', 'stori', '02', '31', 'book', 'long', 'half', 'life', 'book', 'sure', 'long', 'term', 'polit', 'legal', 'consequ', 'public', 'tuesday', 'certain', 'thicken', 'intrigu', 'russian', 'elect', 'meddl', 'presid', 'appar', 'lack', 'interest', 'make', 'kremlin', 'pay', 'price', 'book', 'comey', 'recal', 'struck', 'neither', 'trump', 'advis', 'ask', 'top', 'intellig', 'offici', 'meet', 'trump', 'tower', 'futur', 'russian', 'threat', 'might', 'ask', 'unit', 'state', 'might', 'prepar', 'meet', 'threat', 'instead', 'book', 'say', 'focus', 'spin', 'd', 'just', 'told', 'potenti', 'comey', 'assault', 'play', 'trump', 'think', 'mull', 'whether', 'seek', 'dismiss', 'deputi', 'attorney', 'gener', 'rod', 'rosenstein', 'perhap', 'precursor', 'shut', 'mueller', 'jame', 'comey', 'just', 'went', 'war', 'donald', 'trump', 'jame', 'comey', 'just', 'went', 'war', 'donald', 'trump', 'will', 'certainli', 'offer', 'fodder', 'democrat', 'will', 'argu', 'midterm', 'elect', 'trump', 'lack', 'moral', 'intellect', 'tempera', 'presid', 'littl', 'chanc', 'will', 'loosen', 'trump', 'unshak', 'hold', 'polit', 'support', 'base', 'tend', 'view', 'media', 'storm', 'proof', 'establish', 'bias', 'trump', 'materi', 'book', 'suggest', 'howev', 'comey', 'alreadi', 'spoken', 'mueller', 'investig', 'will', 'crucial', 'wit', 'special', 'counsel', 'consid', 'whether', 'presid', 'obstruct', 'justic', 'book', 'comey', 'repeat', 'claim', 'trump', 'ask', 'go', 'easi', 'former', 'nation', 'secur', 'advis', 'michael', 'flynn', 'reveal', 'congression', 'testimoni', 'last', 'year', 'stop', 'short', 'outlin', 'obstruct', 'case', 'trump', 'one', 'perspect', 'behavior', 'saw', 'disturb', 'violat', 'basic', 'norm', 'ethic', 'leadership', 'may', 'fall', 'short', 'illeg', 'excerpt', 'book', 'also', 'reflect', 'just', 'deepli', 'comey', 'tenur', 'result', 'fbi', 'drag', 'center', 'america', 'poison', 'polit', 'process', 'like', 'exacerb', 'day', 'controversi', 'book', 'find', 'comey', 'flaw', 'messeng', 'healthi', 'sens', 'ego', 'holier', 'thou', 'belief', 'proprieti', 'may', 'also', 'find', 'ammunit', 'view', 'book', 'one', 'section', 'critic', 'obama', 'administr', 'attorney', 'gener', 'loretta', 'lynch', 'tortur', 'half', 'half', 'approach', 'clinton', 'email', 'investig', 'excori', 'democrat', 'comey', 'also', 'write', 'told', 'barack', 'obama', 'elect', 'noth', 'happen', 'caus', 'presid', 'question', 'integr', 'boy', 'word', 'need', 'hear', 'write', 'felt', 'wave', 'emot', 'almost', 'verg', 'tear', 'wrote', 'told', 'obama', 'm', 'just', 'tri', 'right', 'thing']]\n"
     ]
    }
   ],
   "source": [
    "print(texts)"
   ]
  },
  {
   "cell_type": "code",
   "execution_count": 10,
   "metadata": {
    "collapsed": true
   },
   "outputs": [],
   "source": [
    "# convert tokenized documents into a document-term matrix\n",
    "corpus = [dictionary.doc2bow(text) for text in texts]"
   ]
  },
  {
   "cell_type": "code",
   "execution_count": 16,
   "metadata": {
    "collapsed": true
   },
   "outputs": [],
   "source": [
    "# generate LDA model\n",
    "ldamodel = gensim.models.ldamodel.LdaModel(corpus, num_topics=1, id2word = dictionary, passes = 20)"
   ]
  },
  {
   "cell_type": "code",
   "execution_count": 17,
   "metadata": {},
   "outputs": [],
   "source": [
    "lda = ldamodel.print_topics(1)"
   ]
  },
  {
   "cell_type": "code",
   "execution_count": 18,
   "metadata": {},
   "outputs": [
    {
     "data": {
      "text/plain": [
       "list"
      ]
     },
     "execution_count": 18,
     "metadata": {},
     "output_type": "execute_result"
    }
   ],
   "source": [
    "type(lda)"
   ]
  },
  {
   "cell_type": "code",
   "execution_count": 26,
   "metadata": {},
   "outputs": [],
   "source": [
    "lda = str(lda)"
   ]
  },
  {
   "cell_type": "code",
   "execution_count": 27,
   "metadata": {},
   "outputs": [
    {
     "data": {
      "text/plain": [
       "str"
      ]
     },
     "execution_count": 27,
     "metadata": {},
     "output_type": "execute_result"
    }
   ],
   "source": [
    "type(lda)"
   ]
  },
  {
   "cell_type": "code",
   "execution_count": 28,
   "metadata": {},
   "outputs": [
    {
     "data": {
      "text/plain": [
       "'0, \\'0.026*\"trump\" + 0.013*\"comey\" + 0.012*\"presid\" + 0.009*\"book\" + 0.008*\"will\" + 0.007*\"said\" + 0.006*\"just\" + 0.005*\"abe\" + 0.005*\"fbi\" + 0.005*\"talk\"\\')]'"
      ]
     },
     "execution_count": 28,
     "metadata": {},
     "output_type": "execute_result"
    }
   ],
   "source": [
    "lda[2:]"
   ]
  },
  {
   "cell_type": "code",
   "execution_count": null,
   "metadata": {
    "collapsed": true
   },
   "outputs": [],
   "source": []
  }
 ],
 "metadata": {
  "kernelspec": {
   "display_name": "Python 3",
   "language": "python",
   "name": "python3"
  },
  "language_info": {
   "codemirror_mode": {
    "name": "ipython",
    "version": 3
   },
   "file_extension": ".py",
   "mimetype": "text/x-python",
   "name": "python",
   "nbconvert_exporter": "python",
   "pygments_lexer": "ipython3",
   "version": "3.6.1"
  }
 },
 "nbformat": 4,
 "nbformat_minor": 2
}
